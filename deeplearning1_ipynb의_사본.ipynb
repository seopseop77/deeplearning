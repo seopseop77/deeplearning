{
  "nbformat": 4,
  "nbformat_minor": 0,
  "metadata": {
    "colab": {
      "provenance": []
    },
    "kernelspec": {
      "name": "python3",
      "display_name": "Python 3"
    },
    "language_info": {
      "name": "python"
    }
  },
  "cells": [
    {
      "cell_type": "code",
      "execution_count": null,
      "metadata": {
        "id": "Ov10c4HD8_P6"
      },
      "outputs": [],
      "source": [
        "import numpy as np \n",
        "import matplotlib.pyplot as plt"
      ]
    },
    {
      "cell_type": "code",
      "source": [
        "a = np.array([0,1,23,4])\n",
        "print(a)"
      ],
      "metadata": {
        "colab": {
          "base_uri": "https://localhost:8080/"
        },
        "id": "haMHysDzDMqD",
        "outputId": "9c9ec9ae-94ab-42fa-eded-35fcbe211dc5"
      },
      "execution_count": null,
      "outputs": [
        {
          "output_type": "stream",
          "name": "stdout",
          "text": [
            "[ 0  1 23  4]\n"
          ]
        }
      ]
    },
    {
      "cell_type": "code",
      "source": [
        "print(np.linspace(0,1,3))"
      ],
      "metadata": {
        "colab": {
          "base_uri": "https://localhost:8080/"
        },
        "id": "1VVzwu26DBV5",
        "outputId": "1df94053-7f5e-4859-d5c4-afc60aad4bba"
      },
      "execution_count": null,
      "outputs": [
        {
          "output_type": "stream",
          "name": "stdout",
          "text": [
            "[0.  0.5 1. ]\n"
          ]
        }
      ]
    },
    {
      "cell_type": "code",
      "source": [
        "a = np.array([[1,2,3],[1,2,5]])\n",
        "print(a)"
      ],
      "metadata": {
        "colab": {
          "base_uri": "https://localhost:8080/"
        },
        "id": "__impJy5D1tv",
        "outputId": "43962bdc-da5e-4b71-b6ea-bb6d384c23af"
      },
      "execution_count": null,
      "outputs": [
        {
          "output_type": "stream",
          "name": "stdout",
          "text": [
            "[[1 2 3]\n",
            " [1 2 5]]\n"
          ]
        }
      ]
    },
    {
      "cell_type": "code",
      "source": [
        "x = np.linspace(0,2*np.pi)\n",
        "y_sin = np.sin(x)\n",
        "y_cos = np.cos(x)\n",
        "\n",
        "# 축 이름 \n",
        "plt.xlabel('x value')\n",
        "plt.ylabel('y vaule')\n",
        "\n",
        "# 그래프 제목 \n",
        "plt.title('sin/cos')\n",
        "plt.plot(x,y_sin, label = 'sin')\n",
        "plt.plot(x,y_cos, label = 'cos', linestyle = 'dashed')\n",
        "plt.legend() # 범례 표시 \n",
        "\n",
        "plt.show()\n",
        "\n",
        "\n"
      ],
      "metadata": {
        "colab": {
          "base_uri": "https://localhost:8080/",
          "height": 295
        },
        "id": "ihFfAiTjEAXg",
        "outputId": "3c632562-6c97-48c7-dc59-2e441e31977b"
      },
      "execution_count": null,
      "outputs": [
        {
          "output_type": "display_data",
          "data": {
            "text/plain": [
              "<Figure size 432x288 with 1 Axes>"
            ],
            "image/png": "[encoded data removed]"
          },
          "metadata": {
            "needs_background": "light"
          }
        }
      ]
    },
    {
      "cell_type": "code",
      "source": [
        "# 이미지 출력 \n",
        "\n",
        "img = np.array([[0,1,2,3],[4,5,6,7],[8,9,10,11],[12,13,14,15]])\n",
        "\n",
        "plt.imshow(img, 'hot')\n",
        "plt.colorbar() #컬러바 표시 \n",
        "\n",
        "plt.show()"
      ],
      "metadata": {
        "colab": {
          "base_uri": "https://localhost:8080/",
          "height": 269
        },
        "id": "nBJvLmvYFpmR",
        "outputId": "47cb533e-c073-4f2f-f6b8-ae70ec53ecbe"
      },
      "execution_count": null,
      "outputs": [
        {
          "output_type": "display_data",
          "data": {
            "text/plain": [
              "<Figure size 432x288 with 2 Axes>"
            ],
            "image/png": "[encoded data removed]"
          },
          "metadata": {
            "needs_background": "light"
          }
        }
      ]
    },
    {
      "cell_type": "code",
      "source": [
        "# 행렬 곱 계산 \n",
        "\n",
        "a = np.array([[0,1,2],[1,2,3]])\n",
        "b = np.array([[2,1],[2,1],[2,1]])\n",
        "\n",
        "print(np.dot(a,b))"
      ],
      "metadata": {
        "colab": {
          "base_uri": "https://localhost:8080/"
        },
        "id": "L-kERN7yGCke",
        "outputId": "4e0e94f9-4c1b-40e4-f90a-02d82a7f5061"
      },
      "execution_count": null,
      "outputs": [
        {
          "output_type": "stream",
          "name": "stdout",
          "text": [
            "[[ 6  3]\n",
            " [12  6]]\n"
          ]
        }
      ]
    },
    {
      "cell_type": "code",
      "source": [
        "# 행렬 전치 \n",
        "\n",
        "a = np.array([[1,2],[4,3]])\n",
        "print(a.T)"
      ],
      "metadata": {
        "colab": {
          "base_uri": "https://localhost:8080/"
        },
        "id": "nojwUSZfHPlY",
        "outputId": "105384a3-a0c5-4720-c51c-79c2cf92a442"
      },
      "execution_count": null,
      "outputs": [
        {
          "output_type": "stream",
          "name": "stdout",
          "text": [
            "[[1 4]\n",
            " [2 3]]\n"
          ]
        }
      ]
    },
    {
      "cell_type": "code",
      "source": [
        "# p.85 연쇄 법칙의 확장 \n",
        "\n",
        "# p.87 정규 분포 "
      ],
      "metadata": {
        "id": "6afyOwnnHYS-"
      },
      "execution_count": null,
      "outputs": []
    },
    {
      "cell_type": "code",
      "source": [
        "# 정규분포를 따르는 난수 생성 (평균 50, 표준편차 10, 10000개 생성)\n",
        "x = np.random.normal(50,10,10000)\n",
        "\n",
        "# 히스토그램 \n",
        "\n",
        "plt.hist(x, bins =  50) # 막대의 수\n",
        "plt.show()"
      ],
      "metadata": {
        "colab": {
          "base_uri": "https://localhost:8080/",
          "height": 265
        },
        "id": "ODTzpXO1IzCW",
        "outputId": "d45fb242-950e-4995-d775-81158b5b1fb8"
      },
      "execution_count": null,
      "outputs": [
        {
          "output_type": "display_data",
          "data": {
            "text/plain": [
              "<Figure size 432x288 with 1 Axes>"
            ],
            "image/png": "[encoded data removed]"
          },
          "metadata": {
            "needs_background": "light"
          }
        }
      ]
    },
    {
      "cell_type": "code",
      "source": [
        "# p.97 순전파 수식 \n",
        "\n",
        "# x : 입력 행렬 , w: 가중치 행렬 , b : 편향 벡터 \n",
        "# 이 떄, x에는 배치 내의 모든 입력이 포함되어 있다. \n",
        "\n",
        "#### u = np.dot(x,w) + b \n",
        "\n",
        "# b는 브로드 캐스트에 의해 행렬처럼 연산된다. \n",
        "\n",
        "# y : 출력 행렬, f : 활성화 함수 \n",
        "\n",
        "#### y = f(u)"
      ],
      "metadata": {
        "id": "N2ow54zCJNc4"
      },
      "execution_count": null,
      "outputs": []
    },
    {
      "cell_type": "code",
      "source": [
        "# p.102 역전파 수식 \n",
        "\n",
        "# x : 입력 행렬,  w : 가중치 행렬 , delta : dE/du (ramma) 행렬 \n",
        "\n",
        "# grad_w = np.dot(x.T,delta) # w 에 따른 오차의 기울기 \n",
        "# grad_b = np.sum(delta, axis = 0) # b 에 따른 오차의 기울기 \n",
        "# grad_x = np.dot(delta,w.T) # x 에 따른 오차의 기울기 \n"
      ],
      "metadata": {
        "id": "r6hXF_w6LwRb"
      },
      "execution_count": null,
      "outputs": []
    },
    {
      "cell_type": "code",
      "source": [],
      "metadata": {
        "id": "leIqNt9lQVT9"
      },
      "execution_count": null,
      "outputs": []
    }
  ]
}